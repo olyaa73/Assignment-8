{
 "cells": [
  {
   "cell_type": "code",
   "execution_count": 23,
   "id": "f3285e39-65ef-4fa6-81b6-dd42171382cd",
   "metadata": {},
   "outputs": [
    {
     "name": "stdout",
     "output_type": "stream",
     "text": [
      "integers: 45 7 floor div: 6 float div: 6.428571428571429\n"
     ]
    }
   ],
   "source": [
    "a = 45\n",
    "b = 7\n",
    "c = a // b\n",
    "d = a / b\n",
    "print(\"integers:\", a, b, \"floor div:\", c, \"float div:\", d)"
   ]
  },
  {
   "cell_type": "code",
   "execution_count": 22,
   "id": "3ea6a5e3-97a7-4241-8fc3-0137d2b3c6e9",
   "metadata": {},
   "outputs": [
    {
     "name": "stdin",
     "output_type": "stream",
     "text": [
      "Enter first number:  582.78031\n",
      "Enter second number:  132.7582\n"
     ]
    },
    {
     "name": "stdout",
     "output_type": "stream",
     "text": [
      "Sum: 715.53851\n"
     ]
    }
   ],
   "source": [
    "num1 = float(input(\"Enter first number: \"))\n",
    "num2 = float(input(\"Enter second number: \"))\n",
    "sum_result = num1 + num2\n",
    "print(\"Sum:\", sum_result)"
   ]
  },
  {
   "cell_type": "code",
   "execution_count": 35,
   "id": "5e439b73-3983-4b5f-8c6d-a8e8fa4ab0aa",
   "metadata": {},
   "outputs": [
    {
     "name": "stdout",
     "output_type": "stream",
     "text": [
      "Integer: 52 Type: <class 'int'>\n",
      "Float: 85.223 Type: <class 'float'>\n",
      "String: Hello, World! Type: <class 'str'>\n",
      "Boolean: True Type: <class 'bool'>\n"
     ]
    }
   ],
   "source": [
    "# Variables of different types\n",
    "integer_var = 52\n",
    "float_var = 85.223\n",
    "string_var = \"Hello, World!\"\n",
    "bool_var = True\n",
    "\n",
    "# Output variable types\n",
    "print(\"Integer:\", integer_var, \"Type:\", type(integer_var))\n",
    "print(\"Float:\", float_var, \"Type:\", type(float_var))\n",
    "print(\"String:\", string_var, \"Type:\", type(string_var))\n",
    "print(\"Boolean:\", bool_var, \"Type:\", type(bool_var))\n"
   ]
  },
  {
   "cell_type": "code",
   "execution_count": 5,
   "id": "3363dad4-201a-4108-82c9-6fe7a0cecdf5",
   "metadata": {},
   "outputs": [
    {
     "name": "stdout",
     "output_type": "stream",
     "text": [
      "0.1+0.2 = 0.30000000000000004\n",
      "isclose with tolerance: True\n",
      "sqrt(2) approx: 1.4142135623730951\n"
     ]
    }
   ],
   "source": [
    "import math\n",
    "x = 0.1 + 0.2\n",
    "print(\"0.1+0.2 =\", x)\n",
    "print(\"sqrt(2) approx:\", math.sqrt(2))"
   ]
  },
  {
   "cell_type": "code",
   "execution_count": 37,
   "id": "eb1986df-92cb-4250-81ae-3d656633dd87",
   "metadata": {},
   "outputs": [
    {
     "name": "stdout",
     "output_type": "stream",
     "text": [
      "['apple', 'banana', 'cherry', 'orange']\n"
     ]
    }
   ],
   "source": [
    "fruits = [\"apple\", \"banana\", \"cherry\"]\n",
    "fruits.append(\"orange\")\n",
    "print(fruits)"
   ]
  },
  {
   "cell_type": "code",
   "execution_count": 38,
   "id": "519e7dad-5e30-430e-960b-c437a8265645",
   "metadata": {},
   "outputs": [
    {
     "name": "stdin",
     "output_type": "stream",
     "text": [
      "Input your name:  Olya\n"
     ]
    },
    {
     "name": "stdout",
     "output_type": "stream",
     "text": [
      "Hello, OLYA\n"
     ]
    }
   ],
   "source": [
    "name = input(\"Input your name: \")\n",
    "print(\"Hello,\", name.upper())"
   ]
  },
  {
   "cell_type": "code",
   "execution_count": 39,
   "id": "f4025bc6-a721-448a-9a67-b850c1094b9c",
   "metadata": {},
   "outputs": [
    {
     "name": "stdout",
     "output_type": "stream",
     "text": [
      "Unique numbers: {1, 2, 3, 4, 5}\n"
     ]
    }
   ],
   "source": [
    "nums = [1, 2, 2, 3, 4, 4, 5]\n",
    "unique_nums = set(nums)\n",
    "print(\"Unique numbers:\", unique_nums)"
   ]
  },
  {
   "cell_type": "code",
   "execution_count": 40,
   "id": "7bba843c-12b8-469f-b7d1-7f28c981ac3b",
   "metadata": {},
   "outputs": [
    {
     "name": "stdin",
     "output_type": "stream",
     "text": [
      "Enter a number:  2\n"
     ]
    },
    {
     "name": "stdout",
     "output_type": "stream",
     "text": [
      "Positive number\n"
     ]
    }
   ],
   "source": [
    "number = int(input(\"Enter a number: \"))\n",
    "if number >= 0:\n",
    "    print(\"Positive number\")\n",
    "else:\n",
    "    print(\"Negative number\")"
   ]
  },
  {
   "cell_type": "code",
   "execution_count": 41,
   "id": "31fe5c3f-4860-436f-81a2-563c15638873",
   "metadata": {},
   "outputs": [
    {
     "name": "stdout",
     "output_type": "stream",
     "text": [
      "Sum of the elements in the list: 15\n"
     ]
    }
   ],
   "source": [
    "numbers = [1, 2, 3, 4, 5]\n",
    "sum_numbers = 0\n",
    "for n in numbers:\n",
    "    sum_numbers += n\n",
    "print(\"Sum of the elements in the list:\", sum_numbers)"
   ]
  },
  {
   "cell_type": "code",
   "execution_count": 42,
   "id": "ae49338f-25c7-4d06-ad7f-04e87ddf8ed8",
   "metadata": {},
   "outputs": [
    {
     "name": "stdin",
     "output_type": "stream",
     "text": [
      "Input radius of circle:  82\n"
     ]
    },
    {
     "name": "stdout",
     "output_type": "stream",
     "text": [
      "Area of circle: 21124.05116\n"
     ]
    }
   ],
   "source": [
    "pi = 3.14159\n",
    "radius = float(input(\"Input radius of circle: \"))\n",
    "area = pi * radius ** 2\n",
    "print(\"Area of circle:\", area)"
   ]
  },
  {
   "cell_type": "code",
   "execution_count": 43,
   "id": "d3e90afb-9bca-4f92-af6e-6c2f0a34df7b",
   "metadata": {},
   "outputs": [
    {
     "name": "stdout",
     "output_type": "stream",
     "text": [
      "z1: (3+4j) abs: 5.0\n",
      "z2: (1-2j) product: (11-2j)\n"
     ]
    }
   ],
   "source": [
    "z1 = 3+4j\n",
    "z2 = complex(1, -2)\n",
    "print(\"z1:\", z1, \"abs:\", abs(z1))\n",
    "print(\"z2:\", z2, \"product:\", z1*z2)"
   ]
  },
  {
   "cell_type": "code",
   "execution_count": 44,
   "id": "576e512f-514b-4c97-bc66-0fcf8ab84ce4",
   "metadata": {},
   "outputs": [
    {
     "name": "stdout",
     "output_type": "stream",
     "text": [
      "Hello, Adelina! there are 7 letters in your name.\n"
     ]
    }
   ],
   "source": [
    "name = \"Adelina\"\n",
    "greeting = f\"Hello, {name}! there are {len(name)} letters in your name.\"\n",
    "print(greeting)"
   ]
  },
  {
   "cell_type": "code",
   "execution_count": 46,
   "id": "58989d05-4b22-4b5a-9e40-41c85639407f",
   "metadata": {},
   "outputs": [
    {
     "name": "stdout",
     "output_type": "stream",
     "text": [
      "logical ops: False True False\n",
      "comparisons: True False True\n"
     ]
    }
   ],
   "source": [
    "t = True\n",
    "f = False\n",
    "print(\"logical ops:\", t and f, t or f, not t)\n",
    "print(\"comparisons:\", 5>3, 1==2, 3!=4)"
   ]
  },
  {
   "cell_type": "code",
   "execution_count": 48,
   "id": "e2132c93-a538-485e-a520-a5e721996f07",
   "metadata": {},
   "outputs": [
    {
     "name": "stdout",
     "output_type": "stream",
     "text": [
      "Count: 0\n",
      "Count: 1\n",
      "Count: 2\n",
      "Count: 3\n",
      "Count: 4\n",
      "Count: 5\n",
      "Count: 6\n",
      "Count: 7\n"
     ]
    }
   ],
   "source": [
    "count = 0\n",
    "while count < 8:\n",
    "    print(\"Count:\", count)\n",
    "    count += 1"
   ]
  },
  {
   "cell_type": "code",
   "execution_count": 49,
   "id": "4dc09a91-6097-4706-b231-b997b3c7d9aa",
   "metadata": {},
   "outputs": [
    {
     "name": "stdout",
     "output_type": "stream",
     "text": [
      "Person's name: Jason\n"
     ]
    }
   ],
   "source": [
    "person = {\n",
    "    \"name\": \"Jason\",\n",
    "    \"age\": 25,\n",
    "    \"city\": \"New York\"\n",
    "}\n",
    "print(\"Person's name:\", person[\"name\"])"
   ]
  },
  {
   "cell_type": "code",
   "execution_count": 51,
   "id": "b17ff791-2dc7-4467-bd91-a96101b3b89c",
   "metadata": {
    "scrolled": true
   },
   "outputs": [
    {
     "name": "stdin",
     "output_type": "stream",
     "text": [
      "Enter some text:  This Is A Small Sentence.\n"
     ]
    },
    {
     "name": "stdout",
     "output_type": "stream",
     "text": [
      "Uppercase: THIS IS A SMALL SENTENCE.\n",
      "Lowercase: this is a small sentence.\n"
     ]
    }
   ],
   "source": [
    "text = input(\"Enter some text: \")\n",
    "print(\"Uppercase:\", text.upper())\n",
    "print(\"Lowercase:\", text.lower())"
   ]
  },
  {
   "cell_type": "code",
   "execution_count": 52,
   "id": "69123699-5d11-447d-b717-9f2ae462650a",
   "metadata": {},
   "outputs": [
    {
     "name": "stdin",
     "output_type": "stream",
     "text": [
      "Enter a number:  25027\n"
     ]
    },
    {
     "name": "stdout",
     "output_type": "stream",
     "text": [
      "25027 is odd.\n"
     ]
    }
   ],
   "source": [
    "num = int(input(\"Enter a number: \"))\n",
    "if num % 2 == 0:\n",
    "    print(num, \"is even.\")\n",
    "else:\n",
    "    print(num, \"is odd.\")"
   ]
  },
  {
   "cell_type": "code",
   "execution_count": 54,
   "id": "bf765c93-83aa-4e2f-9a06-226b19121e2f",
   "metadata": {},
   "outputs": [
    {
     "name": "stdout",
     "output_type": "stream",
     "text": [
      "🎲 Welcome to the game 'Guess the number'!\n"
     ]
    },
    {
     "name": "stdin",
     "output_type": "stream",
     "text": [
      "Choose the level (easy, medium, hard):  medium\n",
      "Attempts left: 10. Enter a number in range from 1 to 100:  20\n"
     ]
    },
    {
     "name": "stdout",
     "output_type": "stream",
     "text": [
      "🔼 The secret number is greater.\n"
     ]
    },
    {
     "name": "stdin",
     "output_type": "stream",
     "text": [
      "Attempts left: 9. Enter a number in range from 1 to 100:  32\n"
     ]
    },
    {
     "name": "stdout",
     "output_type": "stream",
     "text": [
      "🔼 The secret number is greater.\n"
     ]
    },
    {
     "name": "stdin",
     "output_type": "stream",
     "text": [
      "Attempts left: 8. Enter a number in range from 1 to 100:  64\n"
     ]
    },
    {
     "name": "stdout",
     "output_type": "stream",
     "text": [
      "🔼 The secret number is greater.\n"
     ]
    },
    {
     "name": "stdin",
     "output_type": "stream",
     "text": [
      "Attempts left: 7. Enter a number in range from 1 to 100:  83\n"
     ]
    },
    {
     "name": "stdout",
     "output_type": "stream",
     "text": [
      "🔽 The secret number is less.\n"
     ]
    },
    {
     "name": "stdin",
     "output_type": "stream",
     "text": [
      "Attempts left: 6. Enter a number in range from 1 to 100:  77\n"
     ]
    },
    {
     "name": "stdout",
     "output_type": "stream",
     "text": [
      "🔽 The secret number is less.\n"
     ]
    },
    {
     "name": "stdin",
     "output_type": "stream",
     "text": [
      "Attempts left: 5. Enter a number in range from 1 to 100:  70\n"
     ]
    },
    {
     "name": "stdout",
     "output_type": "stream",
     "text": [
      "🔽 The secret number is less.\n"
     ]
    },
    {
     "name": "stdin",
     "output_type": "stream",
     "text": [
      "Attempts left: 4. Enter a number in range from 1 to 100:  68\n"
     ]
    },
    {
     "name": "stdout",
     "output_type": "stream",
     "text": [
      "🔽 The secret number is less.\n"
     ]
    },
    {
     "name": "stdin",
     "output_type": "stream",
     "text": [
      "Attempts left: 3. Enter a number in range from 1 to 100:  67\n"
     ]
    },
    {
     "name": "stdout",
     "output_type": "stream",
     "text": [
      "🔽 The secret number is less.\n"
     ]
    },
    {
     "name": "stdin",
     "output_type": "stream",
     "text": [
      "Attempts left: 2. Enter a number in range from 1 to 100:  65\n"
     ]
    },
    {
     "name": "stdout",
     "output_type": "stream",
     "text": [
      "🎉 Congratulations! You guessed the number 65 in 9 attempts!\n"
     ]
    }
   ],
   "source": [
    "# Game 'Guess the number' with cues and limited attempts\n",
    "\n",
    "import random\n",
    "\n",
    "def guess_number_game():\n",
    "    print(\"🎲 Welcome to the game 'Guess the number'!\")\n",
    "    \n",
    "    # Выбор уровня сложности\n",
    "    levels = {\"easy\": 15, \"medium\": 10, \"hard\": 5}\n",
    "    while True:\n",
    "        level = input(\"Choose the level (easy, medium, hard): \").strip().lower()\n",
    "        if level in levels:\n",
    "            attempts = levels[level]\n",
    "            break\n",
    "        else:\n",
    "            print(\"Please choose one of the levels: easy, medium, hard.\")\n",
    "    \n",
    "    number = random.randint(1, 100)\n",
    "    history = []  # для запоминания попыток\n",
    "    \n",
    "    while attempts > 0:\n",
    "        try:\n",
    "            guess = int(input(f\"Attempts left: {attempts}. Enter a number in range from 1 to 100: \"))\n",
    "            if not 1 <= guess <= 100:\n",
    "                print(\"Number is out of range. Try again.\")\n",
    "                continue\n",
    "        except ValueError:\n",
    "            print(\"Error: A nuber has to be input.\")\n",
    "            continue\n",
    "        \n",
    "        history.append(guess)\n",
    "        \n",
    "        if guess == number:\n",
    "            print(f\"🎉 Congratulations! You guessed the number {number} in {len(history)} attempts!\")\n",
    "            break\n",
    "        elif guess < number:\n",
    "            print(\"🔼 The secret number is greater.\")\n",
    "        else:\n",
    "            print(\"🔽 The secret number is less.\")\n",
    "        \n",
    "        attempts -= 1\n",
    "    \n",
    "    if attempts == 0:\n",
    "        print(f\"😞 Game over! The secret number was {number}. Your attempts: {history}\")\n",
    "\n",
    "if __name__ == \"__main__\":\n",
    "    guess_number_game()"
   ]
  },
  {
   "cell_type": "code",
   "execution_count": 55,
   "id": "8db2255a-cb60-4411-89e0-18a2e01f494d",
   "metadata": {},
   "outputs": [
    {
     "name": "stdout",
     "output_type": "stream",
     "text": [
      "Hi! I'm your To-Do assistant. Enter a command: add, show, delete, exit.\n"
     ]
    },
    {
     "name": "stdin",
     "output_type": "stream",
     "text": [
      "Enter a command:  add\n",
      "What do you want to add to the list?  groceries\n"
     ]
    },
    {
     "name": "stdout",
     "output_type": "stream",
     "text": [
      "Task 'groceries' added.\n"
     ]
    },
    {
     "name": "stdin",
     "output_type": "stream",
     "text": [
      "Enter a command:  show\n"
     ]
    },
    {
     "name": "stdout",
     "output_type": "stream",
     "text": [
      "Your to-do list:\n",
      "1. groceries\n"
     ]
    },
    {
     "name": "stdin",
     "output_type": "stream",
     "text": [
      "Enter a command:  delete\n",
      "Enter the task number to delete:  1\n"
     ]
    },
    {
     "name": "stdout",
     "output_type": "stream",
     "text": [
      "Task 'groceries' deleted.\n"
     ]
    },
    {
     "name": "stdin",
     "output_type": "stream",
     "text": [
      "Enter a command:  show\n"
     ]
    },
    {
     "name": "stdout",
     "output_type": "stream",
     "text": [
      "To-do list is empty.\n"
     ]
    },
    {
     "name": "stdin",
     "output_type": "stream",
     "text": [
      "Enter a command:  exit\n"
     ]
    },
    {
     "name": "stdout",
     "output_type": "stream",
     "text": [
      "See you! Good luck with your to-do list.\n"
     ]
    }
   ],
   "source": [
    "# A simple chatbot for managing a to-do list\n",
    "\n",
    "def todo_bot():\n",
    "    todo_list = []\n",
    "    print(\"Hi! I'm your To-Do assistant. Enter a command: add, show, delete, exit.\")\n",
    "    \n",
    "    while True:\n",
    "        command = input(\"Enter a command: \").strip().lower()\n",
    "        \n",
    "        if command == \"add\":\n",
    "            task = input(\"What do you want to add to the list? \").strip()\n",
    "            if task:\n",
    "                todo_list.append(task)\n",
    "                print(f\"Task '{task}' added.\")\n",
    "            else:\n",
    "                print(\"An empty task cannot be added.\")\n",
    "        \n",
    "        elif command == \"show\":\n",
    "            if not todo_list:\n",
    "                print(\"To-do list is empty.\")\n",
    "            else:\n",
    "                print(\"Your to-do list:\")\n",
    "                for i, task in enumerate(todo_list, 1):\n",
    "                    print(f\"{i}. {task}\")\n",
    "        \n",
    "        elif command == \"delete\":\n",
    "            if not todo_list:\n",
    "                print(\"Nothing to delete, the list is empty.\")\n",
    "            else:\n",
    "                try:\n",
    "                    index = int(input(\"Enter the task number to delete: \"))\n",
    "                    if 1 <= index <= len(todo_list):\n",
    "                        removed = todo_list.pop(index - 1)\n",
    "                        print(f\"Task '{removed}' deleted.\")\n",
    "                    else:\n",
    "                        print(\"Invalid task number.\")\n",
    "                except ValueError:\n",
    "                    print(\"Please enter a number.\")\n",
    "        \n",
    "        elif command == \"exit\":\n",
    "            print(\"See you! Good luck with your to-do list.\")\n",
    "            break\n",
    "        \n",
    "        else:\n",
    "            print(\"Unknown command. Please use: add, show, delete, exit.\")\n",
    "\n",
    "todo_bot()"
   ]
  },
  {
   "cell_type": "code",
   "execution_count": 56,
   "id": "f61c7b28-733e-41b4-accd-addb0cf7eb99",
   "metadata": {},
   "outputs": [
    {
     "name": "stdout",
     "output_type": "stream",
     "text": [
      "Welcome to Rock, Paper, Scissors!\n"
     ]
    },
    {
     "name": "stdin",
     "output_type": "stream",
     "text": [
      "Choose Rock, Paper or Scissors (or type 'exit' to quit):  Scissors\n"
     ]
    },
    {
     "name": "stdout",
     "output_type": "stream",
     "text": [
      "You chose: scissors\n",
      "Computer chose: paper\n",
      "You win!\n"
     ]
    },
    {
     "name": "stdin",
     "output_type": "stream",
     "text": [
      "Choose Rock, Paper or Scissors (or type 'exit' to quit):  Rock\n"
     ]
    },
    {
     "name": "stdout",
     "output_type": "stream",
     "text": [
      "You chose: rock\n",
      "Computer chose: scissors\n",
      "You win!\n"
     ]
    },
    {
     "name": "stdin",
     "output_type": "stream",
     "text": [
      "Choose Rock, Paper or Scissors (or type 'exit' to quit):  Paper\n"
     ]
    },
    {
     "name": "stdout",
     "output_type": "stream",
     "text": [
      "You chose: paper\n",
      "Computer chose: rock\n",
      "You win!\n"
     ]
    },
    {
     "name": "stdin",
     "output_type": "stream",
     "text": [
      "Choose Rock, Paper or Scissors (or type 'exit' to quit):  Paper\n"
     ]
    },
    {
     "name": "stdout",
     "output_type": "stream",
     "text": [
      "You chose: paper\n",
      "Computer chose: rock\n",
      "You win!\n"
     ]
    },
    {
     "name": "stdin",
     "output_type": "stream",
     "text": [
      "Choose Rock, Paper or Scissors (or type 'exit' to quit):  rock\n"
     ]
    },
    {
     "name": "stdout",
     "output_type": "stream",
     "text": [
      "You chose: rock\n",
      "Computer chose: rock\n",
      "It's a tie!\n"
     ]
    },
    {
     "name": "stdin",
     "output_type": "stream",
     "text": [
      "Choose Rock, Paper or Scissors (or type 'exit' to quit):  scissors\n"
     ]
    },
    {
     "name": "stdout",
     "output_type": "stream",
     "text": [
      "You chose: scissors\n",
      "Computer chose: scissors\n",
      "It's a tie!\n"
     ]
    },
    {
     "name": "stdin",
     "output_type": "stream",
     "text": [
      "Choose Rock, Paper or Scissors (or type 'exit' to quit):  rock\n"
     ]
    },
    {
     "name": "stdout",
     "output_type": "stream",
     "text": [
      "You chose: rock\n",
      "Computer chose: rock\n",
      "It's a tie!\n"
     ]
    },
    {
     "name": "stdin",
     "output_type": "stream",
     "text": [
      "Choose Rock, Paper or Scissors (or type 'exit' to quit):  psper\n"
     ]
    },
    {
     "name": "stdout",
     "output_type": "stream",
     "text": [
      "Invalid choice, try again.\n"
     ]
    },
    {
     "name": "stdin",
     "output_type": "stream",
     "text": [
      "Choose Rock, Paper or Scissors (or type 'exit' to quit):  paper\n"
     ]
    },
    {
     "name": "stdout",
     "output_type": "stream",
     "text": [
      "You chose: paper\n",
      "Computer chose: scissors\n",
      "You lose!\n"
     ]
    },
    {
     "name": "stdin",
     "output_type": "stream",
     "text": [
      "Choose Rock, Paper or Scissors (or type 'exit' to quit):  exit\n"
     ]
    },
    {
     "name": "stdout",
     "output_type": "stream",
     "text": [
      "Thank you for playing! Goodbye!\n"
     ]
    }
   ],
   "source": [
    "# Simple Rock, Paper, Scissors Game\n",
    "\n",
    "import random\n",
    "\n",
    "def get_user_choice():\n",
    "    user_input = input(\"Choose Rock, Paper or Scissors (or type 'exit' to quit): \").lower()\n",
    "    while user_input not in ['rock', 'paper', 'scissors', 'exit']:\n",
    "        print(\"Invalid choice, try again.\")\n",
    "        user_input = input(\"Choose Rock, Paper or Scissors (or type 'exit' to quit): \").lower()\n",
    "    return user_input\n",
    "\n",
    "def get_computer_choice():\n",
    "    return random.choice(['rock', 'paper', 'scissors'])\n",
    "\n",
    "def determine_winner(user, computer):\n",
    "    if user == computer:\n",
    "        return \"It's a tie!\"\n",
    "    elif (user == 'rock' and computer == 'scissors') or \\\n",
    "         (user == 'scissors' and computer == 'paper') or \\\n",
    "         (user == 'paper' and computer == 'rock'):\n",
    "        return \"You win!\"\n",
    "    else:\n",
    "        return \"You lose!\"\n",
    "\n",
    "def play_game():\n",
    "    print(\"Welcome to Rock, Paper, Scissors!\")\n",
    "    \n",
    "    while True:\n",
    "        user_choice = get_user_choice()\n",
    "        if user_choice == 'exit':\n",
    "            print(\"Thank you for playing! Goodbye!\")\n",
    "            break\n",
    "        \n",
    "        computer_choice = get_computer_choice()\n",
    "        print(f\"You chose: {user_choice}\")\n",
    "        print(f\"Computer chose: {computer_choice}\")\n",
    "        \n",
    "        result = determine_winner(user_choice, computer_choice)\n",
    "        print(result)\n",
    "\n",
    "# Run the game\n",
    "if __name__ == \"__main__\":\n",
    "    play_game()"
   ]
  },
  {
   "cell_type": "code",
   "execution_count": 3,
   "id": "a2581647-96d4-422b-b03d-3593e1ebdf2e",
   "metadata": {},
   "outputs": [
    {
     "name": "stdout",
     "output_type": "stream",
     "text": [
      "\u001b[93mWelcome to Rock, Paper, Scissors! 🎮\u001b[0m\n"
     ]
    },
    {
     "name": "stdin",
     "output_type": "stream",
     "text": [
      "\u001b[96mChoose 🪨 Rock, 📄 Paper or ✂️ Scissors (or type 'exit' to quit): \u001b[0m Paper\n"
     ]
    },
    {
     "name": "stdout",
     "output_type": "stream",
     "text": [
      "You chose: 📄 Paper\n",
      "Computer chose: 🪨 Rock\n",
      "\u001b[92mYou win! 🎉\u001b[0m\n",
      "Score → You: 1 | Computer: 0\n",
      "\n"
     ]
    },
    {
     "name": "stdin",
     "output_type": "stream",
     "text": [
      "\u001b[96mChoose 🪨 Rock, 📄 Paper or ✂️ Scissors (or type 'exit' to quit): \u001b[0m Scissors\n"
     ]
    },
    {
     "name": "stdout",
     "output_type": "stream",
     "text": [
      "You chose: ✂️ Scissors\n",
      "Computer chose: 📄 Paper\n",
      "\u001b[92mYou win! 🎉\u001b[0m\n",
      "Score → You: 2 | Computer: 0\n",
      "\n"
     ]
    },
    {
     "name": "stdin",
     "output_type": "stream",
     "text": [
      "\u001b[96mChoose 🪨 Rock, 📄 Paper or ✂️ Scissors (or type 'exit' to quit): \u001b[0m Rock\n"
     ]
    },
    {
     "name": "stdout",
     "output_type": "stream",
     "text": [
      "You chose: 🪨 Rock\n",
      "Computer chose: 📄 Paper\n",
      "\u001b[91mYou lose! 💔\u001b[0m\n",
      "Score → You: 2 | Computer: 1\n",
      "\n"
     ]
    },
    {
     "name": "stdin",
     "output_type": "stream",
     "text": [
      "\u001b[96mChoose 🪨 Rock, 📄 Paper or ✂️ Scissors (or type 'exit' to quit): \u001b[0m Rock\n"
     ]
    },
    {
     "name": "stdout",
     "output_type": "stream",
     "text": [
      "You chose: 🪨 Rock\n",
      "Computer chose: 📄 Paper\n",
      "\u001b[91mYou lose! 💔\u001b[0m\n",
      "Score → You: 2 | Computer: 2\n",
      "\n"
     ]
    },
    {
     "name": "stdin",
     "output_type": "stream",
     "text": [
      "\u001b[96mChoose 🪨 Rock, 📄 Paper or ✂️ Scissors (or type 'exit' to quit): \u001b[0m Rock\n"
     ]
    },
    {
     "name": "stdout",
     "output_type": "stream",
     "text": [
      "You chose: 🪨 Rock\n",
      "Computer chose: ✂️ Scissors\n",
      "\u001b[92mYou win! 🎉\u001b[0m\n",
      "Score → You: 3 | Computer: 2\n",
      "\n"
     ]
    },
    {
     "name": "stdin",
     "output_type": "stream",
     "text": [
      "\u001b[96mChoose 🪨 Rock, 📄 Paper or ✂️ Scissors (or type 'exit' to quit): \u001b[0m \n"
     ]
    },
    {
     "name": "stdout",
     "output_type": "stream",
     "text": [
      "\u001b[91m❌ Invalid choice, try again.\u001b[0m\n"
     ]
    },
    {
     "name": "stdin",
     "output_type": "stream",
     "text": [
      "Choose Rock, Paper or Scissors (or type 'exit' to quit):  exit\n"
     ]
    },
    {
     "name": "stdout",
     "output_type": "stream",
     "text": [
      "\u001b[96mFinal Score → You: 3 | Computer: 2\u001b[0m\n",
      "\u001b[93mThank you for playing! 👋\u001b[0m\n"
     ]
    }
   ],
   "source": [
    "\n",
    "import random\n",
    "import time\n",
    "\n",
    "# Added emojis and colors for a more engaging interface\n",
    "COLORS = {\n",
    "    'reset': '\\033[0m',\n",
    "    'green': '\\033[92m',\n",
    "    'red': '\\033[91m',\n",
    "    'yellow': '\\033[93m',\n",
    "    'cyan': '\\033[96m'\n",
    "}\n",
    "\n",
    "CHOICES = {\n",
    "    'rock': '🪨 Rock',\n",
    "    'paper': '📄 Paper',\n",
    "    'scissors': '✂️ Scissors'\n",
    "}\n",
    "\n",
    "# Added score tracking feature\n",
    "score = {\"user\": 0, \"computer\": 0}\n",
    "\n",
    "def get_user_choice():\n",
    "    # Added options display with emojis\n",
    "    user_input = input(f\"{COLORS['cyan']}Choose 🪨 Rock, 📄 Paper or ✂️ Scissors (or type 'exit' to quit): {COLORS['reset']}\").lower()\n",
    "    while user_input not in ['rock', 'paper', 'scissors', 'exit']:\n",
    "        print(f\"{COLORS['red']}❌ Invalid choice, try again.{COLORS['reset']}\")\n",
    "        user_input = input(\"Choose Rock, Paper or Scissors (or type 'exit' to quit): \").lower()\n",
    "    return user_input\n",
    "\n",
    "def get_computer_choice():\n",
    "    return random.choice(list(CHOICES.keys()))\n",
    "\n",
    "def determine_winner(user, computer):\n",
    "    # Added sound effect simulation with small delay\n",
    "    time.sleep(0.5)\n",
    "    if user == computer:\n",
    "        return \"It's a tie!\"\n",
    "    elif (user == 'rock' and computer == 'scissors') or \\\n",
    "         (user == 'scissors' and computer == 'paper') or \\\n",
    "         (user == 'paper' and computer == 'rock'):\n",
    "        score[\"user\"] += 1  # Added score increment\n",
    "        return f\"{COLORS['green']}You win! 🎉{COLORS['reset']}\"\n",
    "    else:\n",
    "        score[\"computer\"] += 1\n",
    "        return f\"{COLORS['red']}You lose! 💔{COLORS['reset']}\"\n",
    "\n",
    "def play_game():\n",
    "    print(f\"{COLORS['yellow']}Welcome to Rock, Paper, Scissors! 🎮{COLORS['reset']}\")\n",
    "    \n",
    "    while True:\n",
    "        user_choice = get_user_choice()\n",
    "        if user_choice == 'exit':\n",
    "            print(f\"{COLORS['cyan']}Final Score → You: {score['user']} | Computer: {score['computer']}{COLORS['reset']}\")\n",
    "            print(f\"{COLORS['yellow']}Thank you for playing! 👋{COLORS['reset']}\")\n",
    "            break\n",
    "        \n",
    "        computer_choice = get_computer_choice()\n",
    "        print(f\"You chose: {CHOICES[user_choice]}\")\n",
    "        print(f\"Computer chose: {CHOICES[computer_choice]}\")\n",
    "        \n",
    "        result = determine_winner(user_choice, computer_choice)\n",
    "        print(result)\n",
    "        print(f\"Score → You: {score['user']} | Computer: {score['computer']}\\n\")\n",
    "\n",
    "# Fixed typo in __name__ check\n",
    "if __name__ == \"__main__\":\n",
    "    play_game()\n"
   ]
  },
  {
   "cell_type": "code",
   "execution_count": null,
   "id": "b8ef0aaa-670f-47f4-bf50-021ed626c27d",
   "metadata": {},
   "outputs": [],
   "source": []
  }
 ],
 "metadata": {
  "kernelspec": {
   "display_name": "Python 3 (ipykernel)",
   "language": "python",
   "name": "python3"
  },
  "language_info": {
   "codemirror_mode": {
    "name": "ipython",
    "version": 3
   },
   "file_extension": ".py",
   "mimetype": "text/x-python",
   "name": "python",
   "nbconvert_exporter": "python",
   "pygments_lexer": "ipython3",
   "version": "3.12.7"
  }
 },
 "nbformat": 4,
 "nbformat_minor": 5
}
